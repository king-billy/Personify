{
 "cells": [
  {
   "cell_type": "markdown",
   "metadata": {},
   "source": [
    "# Part 1: Importing Necessary Libraries"
   ]
  },
  {
   "cell_type": "code",
   "execution_count": 14,
   "metadata": {},
   "outputs": [
    {
     "name": "stderr",
     "output_type": "stream",
     "text": [
      "/Users/juliaepshtein/Desktop/520_Final_Project/Personify/venv/lib/python3.12/site-packages/tqdm/auto.py:21: TqdmWarning: IProgress not found. Please update jupyter and ipywidgets. See https://ipywidgets.readthedocs.io/en/stable/user_install.html\n",
      "  from .autonotebook import tqdm as notebook_tqdm\n"
     ]
    }
   ],
   "source": [
    "import google.generativeai as genai\n",
    "from IPython.display import Markdown\n",
    "\n",
    "import spotipy\n",
    "from spotipy.oauth2 import SpotifyOAuth\n",
    "import pandas as pd\n",
    "import matplotlib.pyplot as plt\n",
    "\n",
    "import os   \n",
    "from dotenv import load_dotenv\n",
    "\n",
    "import pandas as pd\n",
    "import numpy as np\n",
    "import random\n",
    "\n",
    "# Data visualization libraries\n",
    "import matplotlib.pyplot as plt\n",
    "import seaborn as sns\n",
    "\n",
    "# Spotipy\n",
    "import spotipy\n",
    "from spotipy.oauth2 import SpotifyClientCredentials\n",
    "import spotipy.util as util\n",
    "from spotipy.oauth2 import SpotifyOAuth\n",
    "import webbrowser\n",
    "from json.decoder import JSONDecodeError\n",
    "\n",
    "# pytest\n",
    "import pytest\n",
    "import unittest\n",
    "from unittest.mock import patch, Mock"
   ]
  },
  {
   "cell_type": "code",
   "execution_count": 15,
   "metadata": {},
   "outputs": [],
   "source": [
    "load_dotenv()\n",
    "    \n",
    "CLIENT_ID = os.getenv(\"CLIENT_ID\")\n",
    "CLIENT_SECRET = os.getenv(\"CLIENT_SECRET\")\n",
    "REDIRECT_URI = os.getenv(\"REDIRECT_URI\")\n",
    "GEMINI_API_KEY = os.getenv(\"GEMINI_API_KEY\")\n",
    "genai.configure(api_key=GEMINI_API_KEY)"
   ]
  },
  {
   "cell_type": "markdown",
   "metadata": {},
   "source": [
    "# Part 2: Logging in With Authentication"
   ]
  },
  {
   "cell_type": "code",
   "execution_count": 16,
   "metadata": {},
   "outputs": [],
   "source": [
    "# Create App With User Authentication\n",
    "\n",
    "sp = spotipy.Spotify(auth_manager=SpotifyOAuth(client_id=CLIENT_ID,\n",
    "client_secret=CLIENT_SECRET,\n",
    "redirect_uri=REDIRECT_URI,\n",
    "scope=\"user-library-read user-top-read\"))"
   ]
  },
  {
   "cell_type": "code",
   "execution_count": 17,
   "metadata": {},
   "outputs": [
    {
     "data": {
      "text/html": [
       "<div>\n",
       "<style scoped>\n",
       "    .dataframe tbody tr th:only-of-type {\n",
       "        vertical-align: middle;\n",
       "    }\n",
       "\n",
       "    .dataframe tbody tr th {\n",
       "        vertical-align: top;\n",
       "    }\n",
       "\n",
       "    .dataframe thead th {\n",
       "        text-align: right;\n",
       "    }\n",
       "</style>\n",
       "<table border=\"1\" class=\"dataframe\">\n",
       "  <thead>\n",
       "    <tr style=\"text-align: right;\">\n",
       "      <th></th>\n",
       "      <th>track</th>\n",
       "      <th>artist</th>\n",
       "      <th>genres</th>\n",
       "    </tr>\n",
       "  </thead>\n",
       "  <tbody>\n",
       "    <tr>\n",
       "      <th>0</th>\n",
       "      <td>No One Noticed</td>\n",
       "      <td>The Marías</td>\n",
       "      <td>[bedroom pop]</td>\n",
       "    </tr>\n",
       "    <tr>\n",
       "      <th>1</th>\n",
       "      <td>Fire for You</td>\n",
       "      <td>Cannons</td>\n",
       "      <td>[]</td>\n",
       "    </tr>\n",
       "    <tr>\n",
       "      <th>2</th>\n",
       "      <td>Echo</td>\n",
       "      <td>The Marías</td>\n",
       "      <td>[bedroom pop]</td>\n",
       "    </tr>\n",
       "    <tr>\n",
       "      <th>3</th>\n",
       "      <td>Run Your Mouth</td>\n",
       "      <td>The Marías</td>\n",
       "      <td>[bedroom pop]</td>\n",
       "    </tr>\n",
       "    <tr>\n",
       "      <th>4</th>\n",
       "      <td>Give You the World</td>\n",
       "      <td>Steve Lacy</td>\n",
       "      <td>[]</td>\n",
       "    </tr>\n",
       "  </tbody>\n",
       "</table>\n",
       "</div>"
      ],
      "text/plain": [
       "                track      artist         genres\n",
       "0      No One Noticed  The Marías  [bedroom pop]\n",
       "1        Fire for You     Cannons             []\n",
       "2                Echo  The Marías  [bedroom pop]\n",
       "3      Run Your Mouth  The Marías  [bedroom pop]\n",
       "4  Give You the World  Steve Lacy             []"
      ]
     },
     "execution_count": 17,
     "metadata": {},
     "output_type": "execute_result"
    }
   ],
   "source": [
    "# Get top 50 tracks from the medium term (last 6 months)\n",
    "top_tracks = sp.current_user_top_tracks(limit=50, time_range='short_term')\n",
    "\n",
    "track_info = []\n",
    "for item in top_tracks['items']:\n",
    "    track_name = item[\"name\"]\n",
    "    artist_name = item[\"artists\"][0][\"name\"]\n",
    "\n",
    "    try:\n",
    "        artist = sp.search(q=artist_name, type=\"artist\")[\"artists\"][\"items\"][0]\n",
    "        genres = artist[\"genres\"]\n",
    "    except IndexError:\n",
    "        genres = []\n",
    "\n",
    "    track_info.append({\n",
    "        \"track\": track_name,\n",
    "        \"artist\": artist_name,\n",
    "        \"genres\": genres\n",
    "    })\n",
    "\n",
    "df = pd.DataFrame(track_info)\n",
    "df.head()"
   ]
  },
  {
   "cell_type": "code",
   "execution_count": 18,
   "metadata": {},
   "outputs": [
    {
     "name": "stdout",
     "output_type": "stream",
     "text": [
      "Preview of tracks sent to GPT:\n",
      "\n",
      "No One Noticed by The Marías\n",
      "Fire for You by Cannons\n",
      "Echo by The Marías\n",
      "Run Your Mouth by The Marías\n",
      "Give You the World by Steve Lacy\n",
      "URRRGE!!!!!!!!!! (feat. A$AP Rocky) by Doja Cat\n",
      "The Basement by Lunar Vacation\n",
      "Care For You by The Marías\n",
      "BEST INTEREST by Tyler, The Creator\n",
      "Be Careful With Me by Omar Apollo\n",
      "All Night by Men I Trust\n",
      "Ojos Tristes (with The Marías) by Selena Gomez\n",
      "Words by Gregory Alan Isakov\n",
      "Amoeba by Clairo\n",
      "Constant Repeat by Charli xcx\n",
      "Thank You by Clairo\n",
      "Lejos de Ti by The Marías\n",
      "Pool by Still Woozy\n",
      "Roof by Rico Nasty\n",
      "Spite by Omar Apollo\n",
      "Superstar Sh*t by Dominic Fike\n",
      "7 Hours by Dominic Fike\n",
      "Hey Girl by Paul Cherry\n",
      "Demons by Doja Cat\n",
      "Psycho Pass by Xavier Wulf\n",
      "Strawberry Skies by Kid Travis\n",
      "Hoe Cakes by MF DOOM\n",
      "Cool About It by boygenius\n",
      "Maybe She by Still Woozy\n",
      "angel by Kali Uchis\n",
      "Intergalactic Janet by Ley Soul\n",
      "OMG by Suki Waterhouse\n",
      "what u need (angelica's place) by Chase Shakur\n",
      "Tsunami by Suzuki Saint\n",
      "Better People To Leave On Read by Emei\n",
      "Happy Now by Kali Uchi\n"
     ]
    }
   ],
   "source": [
    "tracks_text = \"\\n\".join([f\"{t['track']} by {t['artist']}\" for t in track_info])\n",
    "\n",
    "print(\"Preview of tracks sent to GPT:\\n\")\n",
    "\n",
    "print(tracks_text[:1000])"
   ]
  },
  {
   "cell_type": "code",
   "execution_count": null,
   "metadata": {},
   "outputs": [],
   "source": [
    "generation_config = {\n",
    "    \"temperature\": 0.9,\n",
    "    \"top_p\": 1,\n",
    "    \"top_k\": 1,\n",
    "    \"max_output_tokens\": 2048,\n",
    "}"
   ]
  },
  {
   "cell_type": "code",
   "execution_count": 22,
   "metadata": {},
   "outputs": [
    {
     "name": "stdout",
     "output_type": "stream",
     "text": [
      "\n",
      "Your dominant music vibes:\n",
      "1. Chill/Relaxed\n",
      "2. Dreamy/Ethereal\n",
      "3. Emotional/Introspective\n"
     ]
    }
   ],
   "source": [
    "vibe_model = genai.GenerativeModel('gemini-1.5-flash')\n",
    "\n",
    "def get_top_vibes(track_list, top_n=3):\n",
    "    \"\"\"Analyze a list of tracks and return dominant vibes\"\"\"\n",
    "    # Prepare track information for Gemini\n",
    "    track_summary = \"\\n\".join([\n",
    "        f\"- {track['name']} by {track['artists'][0]['name']}\" \n",
    "        for track in track_list['items']\n",
    "    ])\n",
    "    \n",
    "    prompt = f\"\"\"\n",
    "    Analyze these songs from my listening history and identify the dominant vibes:\n",
    "    {track_summary}\n",
    "    \n",
    "    Possible vibe categories (choose up to {top_n} dominant ones):\n",
    "    - Chill \n",
    "    - Energetic \n",
    "    - Melancholy\n",
    "    - Romantic\n",
    "    - Confident\n",
    "    - Nostalgic\n",
    "    - Artsy\n",
    "    - Dark\n",
    "    - Rage\n",
    "    - Futuristic\n",
    "    - Party\n",
    "    - Ambient\n",
    "    - Spiritual\n",
    "    - Dreamy\n",
    "    - Rebellious\n",
    "    - Carefree\n",
    "    - Classy\n",
    "    - Cinematic\n",
    "    - Theatrical\n",
    "    - Alternative\n",
    "    \n",
    "    Provide only the {top_n} most dominant vibe categories as a comma-separated list (no explanations).\n",
    "    Example: \"Energetic/Upbeat, Chill/Relaxed, Emotional/Introspective\"\n",
    "    \"\"\"\n",
    "    \n",
    "    try:\n",
    "        response = vibe_model.generate_content(prompt)\n",
    "        return [vibe.strip() for vibe in response.text.split(\",\")[:top_n]]\n",
    "    except Exception as e:\n",
    "        print(f\"Error analyzing vibes: {e}\")\n",
    "        return [\"Unknown\"]\n",
    "\n",
    "# Get top tracks and analyze overall vibes\n",
    "top_tracks = sp.current_user_top_tracks(limit=50, time_range='short_term')\n",
    "dominant_vibes = get_top_vibes(top_tracks)\n",
    "\n",
    "print(\"\\nYour dominant music vibes:\")\n",
    "for i, vibe in enumerate(dominant_vibes, 1):\n",
    "    print(f\"{i}. {vibe}\")"
   ]
  }
 ],
 "metadata": {
  "kernelspec": {
   "display_name": "venv",
   "language": "python",
   "name": "python3"
  },
  "language_info": {
   "codemirror_mode": {
    "name": "ipython",
    "version": 3
   },
   "file_extension": ".py",
   "mimetype": "text/x-python",
   "name": "python",
   "nbconvert_exporter": "python",
   "pygments_lexer": "ipython3",
   "version": "3.12.7"
  },
  "orig_nbformat": 4
 },
 "nbformat": 4,
 "nbformat_minor": 2
}
