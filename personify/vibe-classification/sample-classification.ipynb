{
 "cells": [
  {
   "cell_type": "markdown",
   "metadata": {},
   "source": [
    "# Part 1: Importing Necessary Libraries"
   ]
  },
  {
   "cell_type": "code",
   "execution_count": 1,
   "metadata": {},
   "outputs": [],
   "source": [
    "import os   \n",
    "from dotenv import load_dotenv\n",
    "\n",
    "import pandas as pd\n",
    "import numpy as np\n",
    "import random\n",
    "\n",
    "# Data visualization libraries\n",
    "import matplotlib.pyplot as plt\n",
    "import seaborn as sns\n",
    "\n",
    "# Spotipy\n",
    "import spotipy\n",
    "from spotipy.oauth2 import SpotifyClientCredentials\n",
    "import spotipy.util as util\n",
    "from spotipy.oauth2 import SpotifyOAuth\n",
    "import webbrowser\n",
    "from json.decoder import JSONDecodeError\n",
    "\n",
    "# pytest\n",
    "import pytest\n",
    "import unittest\n",
    "from unittest.mock import patch, Mock"
   ]
  },
  {
   "cell_type": "code",
   "execution_count": 6,
   "metadata": {},
   "outputs": [],
   "source": [
    "load_dotenv()\n",
    "    \n",
    "CLIENT_ID = os.getenv(\"CLIENT_ID\")\n",
    "CLIENT_SECRET = os.getenv(\"CLIENT_SECRET\")\n",
    "REDIRECT_URI = os.getenv(\"REDIRECT_URI\")"
   ]
  },
  {
   "cell_type": "markdown",
   "metadata": {},
   "source": [
    "# Part 2: Logging in With Authentication"
   ]
  },
  {
   "cell_type": "code",
   "execution_count": 9,
   "metadata": {},
   "outputs": [
    {
     "name": "stderr",
     "output_type": "stream",
     "text": [
      "Using 'localhost' as a redirect URI is being deprecated. Use a loopback IP address such as 127.0.0.1 to ensure your app remains functional.\n"
     ]
    },
    {
     "name": "stdout",
     "output_type": "stream",
     "text": [
      "0 Sports - Baby Baby\n",
      "1 54 Ultra - Heaven Knows\n",
      "2 Men I Trust - All My Candles\n",
      "3 Phoebe Bridgers - Motion Sickness\n",
      "4 Big Thief - Paul - 2023 Remaster\n",
      "5 M.A.G.S. - Drugs\n",
      "6 beabadoobee - Glue Song (feat. Clairo)\n",
      "7 d4vd - Where'd It Go Wrong?\n",
      "8 Beach House - Space Song\n",
      "9 Suki Waterhouse - To Love\n",
      "10 Selena Gomez - Ojos Tristes (with The Marías)\n",
      "11 SZA - Sweet November\n",
      "12 Omar Apollo - Unbothered\n",
      "13 Dre'es - Warm\n",
      "14 The Marías - Hold It Together\n",
      "15 Memphis Cult - Ты бл*дь су*ка\n",
      "16 Rviden - Vibração Potente\n",
      "17 Seek - REI DO BRASIL\n",
      "18 PHNKR - HARD DANÇA PHONK\n",
      "19 $MXLE - MTG MISERÁVEL\n"
     ]
    }
   ],
   "source": [
    "# Create App With User Authentication\n",
    "\n",
    "sp = spotipy.Spotify(auth_manager=SpotifyOAuth(client_id=CLIENT_ID,\n",
    "client_secret=CLIENT_SECRET,\n",
    "redirect_uri=REDIRECT_URI,\n",
    "scope=\"user-library-read user-top-read\"),\n",
    "show_dialog=True)\n",
    "\n",
    "\n",
    "results = sp.current_user_saved_tracks()\n",
    "for idx, item in enumerate(results['items']):\n",
    "    track = item['track']\n",
    "    print(idx, track['artists'][0]['name'], \"-\", track['name'])"
   ]
  },
  {
   "cell_type": "code",
   "execution_count": 18,
   "metadata": {},
   "outputs": [
    {
     "name": "stdout",
     "output_type": "stream",
     "text": [
      "1. The Marías - No One Noticed\n",
      "2. Lunar Vacation - The Basement\n",
      "3. The Marías - Care For You\n",
      "4. Cannons - Fire for You\n",
      "5. Faye Webster - Kingston\n",
      "6. The Marías - Echo\n",
      "7. The Marías - Run Your Mouth\n",
      "8. Selena Gomez - Ojos Tristes (with The Marías)\n",
      "9. Peach Pit - Techno Show\n",
      "10. Clairo - Thank You\n",
      "11. Doja Cat - URRRGE!!!!!!!!!! (feat. A$AP Rocky)\n",
      "12. Paul Cherry - Hey Girl\n",
      "13. Ravyn Lenae - Computer Luv (feat. Steve Lacy)\n",
      "14. Tyler, The Creator - BEST INTEREST\n",
      "15. Kid Travis - Strawberry Skies\n",
      "16. Omar Apollo - Be Careful With Me\n",
      "17. Djo - Roddy\n",
      "18. Suki Waterhouse - OMG\n",
      "19. Men I Trust - Numb\n",
      "20. beabadoobee - If You Want To\n",
      "21. Men I Trust - All Night\n",
      "22. Still Woozy - Window\n",
      "23. The Marías - I Don't Know You\n",
      "24. Clairo - Amoeba\n",
      "25. Faye Webster - Right Side of My Neck\n",
      "26. Gregory Alan Isakov - Words\n",
      "27. The Marías - Over the Moon\n",
      "28. TOKYOSLEEP - PUMPING FUNK\n",
      "29. The Marías - bop it up!\n",
      "30. The Marías - Sienna\n",
      "31. Steve Lacy - Give You the World\n",
      "32. Megan Thee Stallion - Scary (feat. Rico Nasty)\n",
      "33. Still Woozy - Again\n",
      "34. Arctic Monkeys - If You Were There, Beware\n",
      "35. Steve Lacy - 4real\n",
      "36. AUDREY NUNA - Top Again (feat. Saba)\n",
      "37. Phoebe Bridgers - I Know The End\n",
      "38. Nas - N.Y. State of Mind\n",
      "39. Omar Apollo - Kickback\n",
      "40. Mt. Joy - Silver Lining\n",
      "41. Baby Keem - trademark usa\n",
      "42. The Marías - Cariño\n",
      "43. The Strokes - The Modern Age\n",
      "44. Tame Impala - The Boat I Row\n",
      "45. Omar Apollo - Go Away\n",
      "46. The Marías - Heavy\n",
      "47. Still Woozy - Pool\n",
      "48. Megan Thee Stallion - HISS\n",
      "49. Tyler, The Creator - Potato Salad\n",
      "50. The Marías - Ruthless\n"
     ]
    }
   ],
   "source": [
    "# Fetch top 100 tracks\n",
    "top_tracks = sp.current_user_top_tracks(limit=50, time_range='short_term')\n",
    "\n",
    "for idx, item in enumerate(top_tracks['items']):\n",
    "    track_name = item['name']\n",
    "    artist_name = item['artists'][0]['name']  \n",
    "    print(f\"{idx + 1}. {artist_name} - {track_name}\")"
   ]
  },
  {
   "cell_type": "code",
   "execution_count": 35,
   "metadata": {},
   "outputs": [
    {
     "name": "stderr",
     "output_type": "stream",
     "text": [
      "HTTP Error for GET to https://api.spotify.com/v1/audio-features/?ids=3siwsiaEoU4Kuuc9WKMUy5,1RXzYAbCsqYP6CcAkmPDM1,2CBtdZVcpSwaxOcLUi1AGo,4o0LyB69tylqDG6eTGhmig,5WbfFTuIldjL9x7W6y5l7R,3SH1vOTwgg5Ma1NhHaXvrA,19fKJrO9XdOf6Xla2QHecO,1DpC4L3JjsGRW7y6eTHaMj,0a0EYuSVqeVqV8kjN9bFYC,0mMlo76aVZHpuvoR6fjBSK,0mxMMetknt24PVQxAHwXAZ,2XZZqYiCSsKQPZT0TFef4L,2wsa9Re66HqlOkgb3DpnBX,3jHdKaLCkuNEkWcLVmQPCX,458EaCXcB9TRBoJEDVcdcr,4JOsabaJ1et99Ulb1E9GIE,5hS8s1Vf4CeSRBT1bTWa39,5vYjTN8d0DZ2SosbKSx5Nj,6Ijmj8Z0L31hCp5pLZnT5U,7I1kle4TNmkfednJDKo8GR,0XvoMOI25j4wODyk8nuANS,42Fm8hxhh8i0Zx0Si7XIxd,06cqIVC8kRAT02qfHQT65v,0HAqq2GcQKyi3s87GuN7jU,3cxZT78mZDyLsLPJKcTu3U,01Dc5vTMc9axpkvDUy0yiD,02wNtFxlr9dLmZXKT5TIF5,05d5Zzb4LwIY7FojboJQZi,06yhr4JeQjIcyDZwEwjGcm,0InIeZW4P6VO7dUGRM4AKH,0J119Oas2ox6JTTHUGZxHN,0QWauSvdEXExwUUDa4QCsj,0ZU7dTp8rNR1Bpc0jMcEAD,0ZUXj43fteJjwvGoLMntte,0fBFp8ItmAfAqPHZx8qQsh,0k2HFzw2iQENrU2oWtVJEb,0pJW1Xw3aY4Eh6k5iuBkfI,0trHOzAhNpGCsGBEu7dOJo,0zgDfVY84eFIzgTvK9KutN,13xVnZKZDEGbmXkzBFpJDD,15hJmqqEtASVXl6sM7i4UF,16gJmoOqRt2lKmlXtDpWgH,1EsgUWQsxGBwnu3NATDjiU,1HVYQj4liQb1QOygBfjZqV,1JNv9ICYbayNgqm8fKPLqP,1ShRHPAiiIrh0arZbSFmx1,1ZP4Qxb7USL3EezbxfpOVF,1a9dUxIQ2ehPH3992H9uPe,1jzIJcHCXneHw7ojC6LXiF,1mbuSss0OVqfS00y7yCNCZ with Params: {} returned 403 due to None\n"
     ]
    },
    {
     "name": "stdout",
     "output_type": "stream",
     "text": [
      "Spotify API error: http status: 403, code: -1 - https://api.spotify.com/v1/audio-features/?ids=3siwsiaEoU4Kuuc9WKMUy5,1RXzYAbCsqYP6CcAkmPDM1,2CBtdZVcpSwaxOcLUi1AGo,4o0LyB69tylqDG6eTGhmig,5WbfFTuIldjL9x7W6y5l7R,3SH1vOTwgg5Ma1NhHaXvrA,19fKJrO9XdOf6Xla2QHecO,1DpC4L3JjsGRW7y6eTHaMj,0a0EYuSVqeVqV8kjN9bFYC,0mMlo76aVZHpuvoR6fjBSK,0mxMMetknt24PVQxAHwXAZ,2XZZqYiCSsKQPZT0TFef4L,2wsa9Re66HqlOkgb3DpnBX,3jHdKaLCkuNEkWcLVmQPCX,458EaCXcB9TRBoJEDVcdcr,4JOsabaJ1et99Ulb1E9GIE,5hS8s1Vf4CeSRBT1bTWa39,5vYjTN8d0DZ2SosbKSx5Nj,6Ijmj8Z0L31hCp5pLZnT5U,7I1kle4TNmkfednJDKo8GR,0XvoMOI25j4wODyk8nuANS,42Fm8hxhh8i0Zx0Si7XIxd,06cqIVC8kRAT02qfHQT65v,0HAqq2GcQKyi3s87GuN7jU,3cxZT78mZDyLsLPJKcTu3U,01Dc5vTMc9axpkvDUy0yiD,02wNtFxlr9dLmZXKT5TIF5,05d5Zzb4LwIY7FojboJQZi,06yhr4JeQjIcyDZwEwjGcm,0InIeZW4P6VO7dUGRM4AKH,0J119Oas2ox6JTTHUGZxHN,0QWauSvdEXExwUUDa4QCsj,0ZU7dTp8rNR1Bpc0jMcEAD,0ZUXj43fteJjwvGoLMntte,0fBFp8ItmAfAqPHZx8qQsh,0k2HFzw2iQENrU2oWtVJEb,0pJW1Xw3aY4Eh6k5iuBkfI,0trHOzAhNpGCsGBEu7dOJo,0zgDfVY84eFIzgTvK9KutN,13xVnZKZDEGbmXkzBFpJDD,15hJmqqEtASVXl6sM7i4UF,16gJmoOqRt2lKmlXtDpWgH,1EsgUWQsxGBwnu3NATDjiU,1HVYQj4liQb1QOygBfjZqV,1JNv9ICYbayNgqm8fKPLqP,1ShRHPAiiIrh0arZbSFmx1,1ZP4Qxb7USL3EezbxfpOVF,1a9dUxIQ2ehPH3992H9uPe,1jzIJcHCXneHw7ojC6LXiF,1mbuSss0OVqfS00y7yCNCZ:\n",
      " None, reason: None\n"
     ]
    }
   ],
   "source": [
    "# Get audio features for tracks\n",
    "track_ids = [track['id'] for track in top_tracks['items']]\n",
    "audio_features = sp.audio_features(track_ids)"
   ]
  },
  {
   "cell_type": "code",
   "execution_count": null,
   "metadata": {},
   "outputs": [],
   "source": [
    "# Classify vibe based on audio features\n",
    "def classify_vibe(features):\n",
    "    energy = features['energy']\n",
    "    valence = features['valence']\n",
    "    acousticness = features['acousticness']\n",
    "    danceability = features['danceability']\n",
    "    instrumentalness = features['instrumentalness']\n",
    "    speechiness = features['speechiness']\n",
    "    \n",
    "    # Vibe classification logic (very basic for now)\n",
    "    if energy > 0.8 and danceability > 0.7 and valence > 0.7:\n",
    "        return \"Upbeat Party\"\n",
    "    elif valence > 0.6 and energy > 0.6:\n",
    "        return \"Happy/Uplifting\"\n",
    "    elif valence < 0.4 and energy < 0.5:\n",
    "        return \"Sad/Melancholic\"\n",
    "    elif acousticness > 0.7 and energy < 0.5:\n",
    "        return \"Chill/Acoustic\"\n",
    "    elif instrumentalness > 0.7:\n",
    "        return \"Cinematic/Instrumental\"\n",
    "    elif speechiness > 0.5:\n",
    "        return \"Rap/Spoken Word\"\n",
    "    elif danceability > 0.6 and energy > 0.6:\n",
    "        return \"Danceable/Groovy\"\n",
    "    else:\n",
    "        return \"Neutral/Mixed\""
   ]
  },
  {
   "cell_type": "code",
   "execution_count": null,
   "metadata": {},
   "outputs": [],
   "source": [
    "# Combine track info with features and classified vibes\n",
    "vibes_data = []\n",
    "for i, features in enumerate(audio_features):\n",
    "    if features is None:\n",
    "        continue\n",
    "    track = top_tracks['items'][i]\n",
    "    vibe = classify_vibe(features)\n",
    "    vibes_data.append({\n",
    "        'track_name': track['name'],\n",
    "        'artist_name': track['artists'][0]['name'],\n",
    "        'vibe': vibe,\n",
    "        'energy': features['energy'],\n",
    "        'valence': features['valence'],\n",
    "        'acousticness': features['acousticness'],\n",
    "        'danceability': features['danceability'],\n",
    "        'instrumentalness': features['instrumentalness'],\n",
    "        'speechiness': features['speechiness']\n",
    "    })"
   ]
  },
  {
   "cell_type": "code",
   "execution_count": null,
   "metadata": {},
   "outputs": [],
   "source": [
    "# Plot vibes distribution\n",
    "# Convert to DataFrame\n",
    "vibes_df = pd.DataFrame(vibes_data)\n",
    "\n",
    "# Plot vibes distribution\n",
    "plt.figure(figsize=(10, 6))\n",
    "sns.countplot(data=vibes_df, x='vibe', order=vibes_df['vibe'].value_counts().index, palette='muted')\n",
    "plt.xticks(rotation=45)\n",
    "plt.title(\"Distribution of Vibes in Your Top Tracks\")\n",
    "plt.xlabel(\"Vibe Category\")\n",
    "plt.ylabel(\"Number of Tracks\")\n",
    "plt.tight_layout()\n",
    "plt.show()"
   ]
  }
 ],
 "metadata": {
  "kernelspec": {
   "display_name": "venv",
   "language": "python",
   "name": "python3"
  },
  "language_info": {
   "codemirror_mode": {
    "name": "ipython",
    "version": 3
   },
   "file_extension": ".py",
   "mimetype": "text/x-python",
   "name": "python",
   "nbconvert_exporter": "python",
   "pygments_lexer": "ipython3",
   "version": "3.12.7"
  },
  "orig_nbformat": 4
 },
 "nbformat": 4,
 "nbformat_minor": 2
}
