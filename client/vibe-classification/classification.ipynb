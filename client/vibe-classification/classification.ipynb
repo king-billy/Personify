{
 "cells": [
  {
   "cell_type": "markdown",
   "metadata": {},
   "source": [
    "# Part 1: Importing Necessary Libraries"
   ]
  },
  {
   "cell_type": "code",
   "execution_count": 2,
   "metadata": {},
   "outputs": [
    {
     "name": "stderr",
     "output_type": "stream",
     "text": [
      "/Users/juliaepshtein/Desktop/Personify/venv/lib/python3.12/site-packages/tqdm/auto.py:21: TqdmWarning: IProgress not found. Please update jupyter and ipywidgets. See https://ipywidgets.readthedocs.io/en/stable/user_install.html\n",
      "  from .autonotebook import tqdm as notebook_tqdm\n"
     ]
    }
   ],
   "source": [
    "# Gemini\n",
    "import google.generativeai as genai\n",
    "from IPython.display import Markdown\n",
    "\n",
    "# System and Environment\n",
    "import os   \n",
    "from dotenv import load_dotenv\n",
    "\n",
    "# For Dataframes\n",
    "import pandas as pd\n",
    "import numpy as np\n",
    "import random\n",
    "\n",
    "# Data visualization libraries\n",
    "import matplotlib.pyplot as plt\n",
    "import seaborn as sns\n",
    "\n",
    "# Spotipy\n",
    "import spotipy\n",
    "from spotipy.oauth2 import SpotifyClientCredentials\n",
    "import spotipy.util as util\n",
    "from spotipy.oauth2 import SpotifyOAuth\n",
    "import webbrowser\n",
    "from json.decoder import JSONDecodeError\n",
    "\n",
    "# pytest\n",
    "import pytest\n",
    "import unittest\n",
    "from unittest.mock import patch, Mock"
   ]
  },
  {
   "cell_type": "code",
   "execution_count": 7,
   "metadata": {},
   "outputs": [],
   "source": [
    "# Load Environment Variables\n",
    "PROJECT_ROOT = os.path.abspath(os.path.join(os.getcwd(), \"../..\"))\n",
    "env_path = os.path.join(PROJECT_ROOT, 'middleware/.env')\n",
    "load_dotenv(env_path)\n",
    "\n",
    "CLIENT_ID = os.getenv(\"SPOTIFY_CLIENT_ID\")\n",
    "CLIENT_SECRET = os.getenv(\"SPOTIFY_CLIENT_SECRET\")\n",
    "REDIRECT_URI = os.getenv(\"REDIRECT_URI\")\n",
    "GEMINI_API_KEY = os.getenv(\"GEMINI_API_KEY\")\n",
    "genai.configure(api_key=GEMINI_API_KEY)"
   ]
  },
  {
   "cell_type": "markdown",
   "metadata": {},
   "source": [
    "# Part 2: Logging in With Authentication"
   ]
  },
  {
   "cell_type": "code",
   "execution_count": 11,
   "metadata": {},
   "outputs": [
    {
     "name": "stderr",
     "output_type": "stream",
     "text": [
      "Using 'localhost' as a redirect URI is being deprecated. Use a loopback IP address such as 127.0.0.1 to ensure your app remains functional.\n"
     ]
    },
    {
     "name": "stdout",
     "output_type": "stream",
     "text": [
      "0 PinkPantheress - Tonight\n",
      "1 Malcolm Todd - Chest Pain (I Love)\n",
      "2 Sports - Baby Baby\n",
      "3 54 Ultra - Heaven Knows\n",
      "4 Men I Trust - All My Candles\n",
      "5 Phoebe Bridgers - Motion Sickness\n",
      "6 Big Thief - Paul - 2023 Remaster\n",
      "7 M.A.G.S. - Drugs\n",
      "8 beabadoobee - Glue Song (feat. Clairo)\n",
      "9 d4vd - Where'd It Go Wrong?\n",
      "10 Beach House - Space Song\n",
      "11 Suki Waterhouse - To Love\n",
      "12 Selena Gomez - Ojos Tristes (with The Marías)\n",
      "13 SZA - Sweet November\n",
      "14 Omar Apollo - Unbothered\n",
      "15 Dre'es - Warm\n",
      "16 The Marías - Hold It Together\n",
      "17 Memphis Cult - Ты бл*дь су*ка\n",
      "18 Rviden - Vibração Potente\n",
      "19 Seek - REI DO BRASIL\n"
     ]
    }
   ],
   "source": [
    "# Create App With User Authentication\n",
    "\n",
    "sp = spotipy.Spotify(auth_manager=SpotifyOAuth(client_id=CLIENT_ID,\n",
    "client_secret=CLIENT_SECRET,\n",
    "redirect_uri=REDIRECT_URI,\n",
    "scope=\"user-top-read user-library-read\"))\n",
    "\n",
    "\n",
    "results = sp.current_user_saved_tracks()\n",
    "for idx, item in enumerate(results['items']):\n",
    "    track = item['track']\n",
    "    print(idx, track['artists'][0]['name'], \"-\", track['name'])"
   ]
  },
  {
   "cell_type": "code",
   "execution_count": 12,
   "metadata": {},
   "outputs": [
    {
     "data": {
      "text/html": [
       "<div>\n",
       "<style scoped>\n",
       "    .dataframe tbody tr th:only-of-type {\n",
       "        vertical-align: middle;\n",
       "    }\n",
       "\n",
       "    .dataframe tbody tr th {\n",
       "        vertical-align: top;\n",
       "    }\n",
       "\n",
       "    .dataframe thead th {\n",
       "        text-align: right;\n",
       "    }\n",
       "</style>\n",
       "<table border=\"1\" class=\"dataframe\">\n",
       "  <thead>\n",
       "    <tr style=\"text-align: right;\">\n",
       "      <th></th>\n",
       "      <th>track</th>\n",
       "      <th>artist</th>\n",
       "      <th>genres</th>\n",
       "    </tr>\n",
       "  </thead>\n",
       "  <tbody>\n",
       "    <tr>\n",
       "      <th>0</th>\n",
       "      <td>No One Noticed</td>\n",
       "      <td>The Marías</td>\n",
       "      <td>[bedroom pop]</td>\n",
       "    </tr>\n",
       "    <tr>\n",
       "      <th>1</th>\n",
       "      <td>Fire for You</td>\n",
       "      <td>Cannons</td>\n",
       "      <td>[]</td>\n",
       "    </tr>\n",
       "    <tr>\n",
       "      <th>2</th>\n",
       "      <td>Echo</td>\n",
       "      <td>The Marías</td>\n",
       "      <td>[bedroom pop]</td>\n",
       "    </tr>\n",
       "    <tr>\n",
       "      <th>3</th>\n",
       "      <td>Run Your Mouth</td>\n",
       "      <td>The Marías</td>\n",
       "      <td>[bedroom pop]</td>\n",
       "    </tr>\n",
       "    <tr>\n",
       "      <th>4</th>\n",
       "      <td>Give You the World</td>\n",
       "      <td>Steve Lacy</td>\n",
       "      <td>[]</td>\n",
       "    </tr>\n",
       "  </tbody>\n",
       "</table>\n",
       "</div>"
      ],
      "text/plain": [
       "                track      artist         genres\n",
       "0      No One Noticed  The Marías  [bedroom pop]\n",
       "1        Fire for You     Cannons             []\n",
       "2                Echo  The Marías  [bedroom pop]\n",
       "3      Run Your Mouth  The Marías  [bedroom pop]\n",
       "4  Give You the World  Steve Lacy             []"
      ]
     },
     "execution_count": 12,
     "metadata": {},
     "output_type": "execute_result"
    }
   ],
   "source": [
    "# Get top 50 tracks from short term\n",
    "top_tracks = sp.current_user_top_tracks(limit=50, time_range='short_term')\n",
    "\n",
    "track_info = []\n",
    "for item in top_tracks['items']:\n",
    "    track_name = item[\"name\"]\n",
    "    artist_name = item[\"artists\"][0][\"name\"]\n",
    "\n",
    "    try:\n",
    "        artist = sp.search(q=artist_name, type=\"artist\")[\"artists\"][\"items\"][0]\n",
    "        genres = artist[\"genres\"]\n",
    "    except IndexError:\n",
    "        genres = []\n",
    "\n",
    "    track_info.append({\n",
    "        \"track\": track_name,\n",
    "        \"artist\": artist_name,\n",
    "        \"genres\": genres\n",
    "    })\n",
    "\n",
    "df = pd.DataFrame(track_info)\n",
    "df.head()"
   ]
  },
  {
   "cell_type": "code",
   "execution_count": 13,
   "metadata": {},
   "outputs": [
    {
     "name": "stdout",
     "output_type": "stream",
     "text": [
      "\n",
      "Your dominant music vibes:\n",
      "1. Chill\n",
      "2. Dreamy\n",
      "3. Melancholy\n"
     ]
    }
   ],
   "source": [
    "vibe_model = genai.GenerativeModel('gemini-1.5-flash')\n",
    "\n",
    "def get_top_vibes(track_list, top_n=3):\n",
    "    \"\"\"Analyze a list of tracks and return dominant vibes\"\"\"\n",
    "    # Prepare track information for Gemini\n",
    "    track_summary = \"\\n\".join([\n",
    "        f\"- {track['name']} by {track['artists'][0]['name']}\" \n",
    "        for track in track_list['items']\n",
    "    ])\n",
    "    \n",
    "    prompt = f\"\"\"\n",
    "    Analyze these songs from my listening history and identify the dominant vibes:\n",
    "    {track_summary}\n",
    "    \n",
    "    Possible vibe categories (choose up to {top_n} dominant ones):\n",
    "    - Chill \n",
    "    - Energetic \n",
    "    - Melancholy\n",
    "    - Romantic\n",
    "    - Confident\n",
    "    - Nostalgic\n",
    "    - Artsy\n",
    "    - Dark\n",
    "    - Rage\n",
    "    - Futuristic\n",
    "    - Party\n",
    "    - Ambient\n",
    "    - Spiritual\n",
    "    - Dreamy\n",
    "    - Rebellious\n",
    "    - Carefree\n",
    "    - Classy\n",
    "    - Cinematic\n",
    "    - Theatrical\n",
    "    - Alternative\n",
    "    \n",
    "    Provide only the {top_n} most dominant vibe categories as a comma-separated list (no explanations).\n",
    "    Example: \"Energetic/Upbeat, Chill/Relaxed, Emotional/Introspective\"\n",
    "    \"\"\"\n",
    "    \n",
    "    try:\n",
    "        response = vibe_model.generate_content(prompt)\n",
    "        return [vibe.strip() for vibe in response.text.split(\",\")[:top_n]]\n",
    "    except Exception as e:\n",
    "        print(f\"Error analyzing vibes: {e}\")\n",
    "        return [\"Unknown\"]\n",
    "\n",
    "# Get top tracks and analyze overall vibes\n",
    "top_tracks = sp.current_user_top_tracks(limit=50, time_range='short_term')\n",
    "dominant_vibes = get_top_vibes(top_tracks)\n",
    "\n",
    "print(\"\\nYour dominant music vibes:\")\n",
    "for i, vibe in enumerate(dominant_vibes, 1):\n",
    "    print(f\"{i}. {vibe}\")"
   ]
  }
 ],
 "metadata": {
  "kernelspec": {
   "display_name": "venv",
   "language": "python",
   "name": "python3"
  },
  "language_info": {
   "codemirror_mode": {
    "name": "ipython",
    "version": 3
   },
   "file_extension": ".py",
   "mimetype": "text/x-python",
   "name": "python",
   "nbconvert_exporter": "python",
   "pygments_lexer": "ipython3",
   "version": "3.12.7"
  },
  "orig_nbformat": 4
 },
 "nbformat": 4,
 "nbformat_minor": 2
}
