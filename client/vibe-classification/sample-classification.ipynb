{
 "cells": [
  {
   "cell_type": "markdown",
   "metadata": {},
   "source": [
    "# Part 1: Importing Necessary Libraries"
   ]
  },
  {
   "cell_type": "code",
   "execution_count": null,
   "metadata": {},
   "outputs": [],
   "source": [
    "# Gemini\n",
    "import google.generativeai as genai\n",
    "from IPython.display import Markdown\n",
    "\n",
    "# System and Environment\n",
    "import os   \n",
    "from dotenv import load_dotenv\n",
    "\n",
    "# For Dataframes\n",
    "import pandas as pd\n",
    "import numpy as np\n",
    "import random\n",
    "\n",
    "# Data visualization libraries\n",
    "import matplotlib.pyplot as plt\n",
    "import seaborn as sns\n",
    "\n",
    "# Spotipy\n",
    "import spotipy\n",
    "from spotipy.oauth2 import SpotifyClientCredentials\n",
    "import spotipy.util as util\n",
    "from spotipy.oauth2 import SpotifyOAuth\n",
    "import webbrowser\n",
    "from json.decoder import JSONDecodeError\n",
    "\n",
    "# pytest\n",
    "import pytest\n",
    "import unittest\n",
    "from unittest.mock import patch, Mock"
   ]
  },
  {
   "cell_type": "code",
   "execution_count": null,
   "metadata": {},
   "outputs": [],
   "source": [
    "# Load Environment Variables and Configure Gemini\n",
    "load_dotenv()\n",
    "    \n",
    "CLIENT_ID = os.getenv(\"CLIENT_ID\")\n",
    "CLIENT_SECRET = os.getenv(\"CLIENT_SECRET\")\n",
    "REDIRECT_URI = os.getenv(\"REDIRECT_URI\")\n",
    "GEMINI_API_KEY = os.getenv(\"GEMINI_API_KEY\")\n",
    "genai.configure(api_key=GEMINI_API_KEY)"
   ]
  },
  {
   "cell_type": "markdown",
   "metadata": {},
   "source": [
    "# Part 2: Logging in With Authentication"
   ]
  },
  {
   "cell_type": "code",
   "execution_count": null,
   "metadata": {},
   "outputs": [],
   "source": [
    "# Create App With User Authentication\n",
    "\n",
    "sp = spotipy.Spotify(auth_manager=SpotifyOAuth(client_id=CLIENT_ID,\n",
    "client_secret=CLIENT_SECRET,\n",
    "redirect_uri=REDIRECT_URI,\n",
    "scope=\"user-library-read user-top-read\"))"
   ]
  },
  {
   "cell_type": "code",
   "execution_count": null,
   "metadata": {},
   "outputs": [],
   "source": [
    "# Get top 50 tracks from short term\n",
    "top_tracks = sp.current_user_top_tracks(limit=50, time_range='short_term')\n",
    "\n",
    "track_info = []\n",
    "for item in top_tracks['items']:\n",
    "    track_name = item[\"name\"]\n",
    "    artist_name = item[\"artists\"][0][\"name\"]\n",
    "\n",
    "    try:\n",
    "        artist = sp.search(q=artist_name, type=\"artist\")[\"artists\"][\"items\"][0]\n",
    "        genres = artist[\"genres\"]\n",
    "    except IndexError:\n",
    "        genres = []\n",
    "\n",
    "    track_info.append({\n",
    "        \"track\": track_name,\n",
    "        \"artist\": artist_name,\n",
    "        \"genres\": genres\n",
    "    })\n",
    "\n",
    "df = pd.DataFrame(track_info)\n",
    "df.head()"
   ]
  },
  {
   "cell_type": "code",
   "execution_count": null,
   "metadata": {},
   "outputs": [],
   "source": [
    "vibe_model = genai.GenerativeModel('gemini-1.5-flash')\n",
    "\n",
    "def get_top_vibes(track_list, top_n=3):\n",
    "    \"\"\"Analyze a list of tracks and return dominant vibes\"\"\"\n",
    "    # Prepare track information for Gemini\n",
    "    track_summary = \"\\n\".join([\n",
    "        f\"- {track['name']} by {track['artists'][0]['name']}\" \n",
    "        for track in track_list['items']\n",
    "    ])\n",
    "    \n",
    "    prompt = f\"\"\"\n",
    "    Analyze these songs from my listening history and identify the dominant vibes:\n",
    "    {track_summary}\n",
    "    \n",
    "    Possible vibe categories (choose up to {top_n} dominant ones):\n",
    "    - Chill \n",
    "    - Energetic \n",
    "    - Melancholy\n",
    "    - Romantic\n",
    "    - Confident\n",
    "    - Nostalgic\n",
    "    - Artsy\n",
    "    - Dark\n",
    "    - Rage\n",
    "    - Futuristic\n",
    "    - Party\n",
    "    - Ambient\n",
    "    - Spiritual\n",
    "    - Dreamy\n",
    "    - Rebellious\n",
    "    - Carefree\n",
    "    - Classy\n",
    "    - Cinematic\n",
    "    - Theatrical\n",
    "    - Alternative\n",
    "    \n",
    "    Provide only the {top_n} most dominant vibe categories as a comma-separated list (no explanations).\n",
    "    Example: \"Energetic/Upbeat, Chill/Relaxed, Emotional/Introspective\"\n",
    "    \"\"\"\n",
    "    \n",
    "    try:\n",
    "        response = vibe_model.generate_content(prompt)\n",
    "        return [vibe.strip() for vibe in response.text.split(\",\")[:top_n]]\n",
    "    except Exception as e:\n",
    "        print(f\"Error analyzing vibes: {e}\")\n",
    "        return [\"Unknown\"]\n",
    "\n",
    "# Get top tracks and analyze overall vibes\n",
    "top_tracks = sp.current_user_top_tracks(limit=50, time_range='short_term')\n",
    "dominant_vibes = get_top_vibes(top_tracks)\n",
    "\n",
    "print(\"\\nYour dominant music vibes:\")\n",
    "for i, vibe in enumerate(dominant_vibes, 1):\n",
    "    print(f\"{i}. {vibe}\")"
   ]
  }
 ],
 "metadata": {
  "language_info": {
   "name": "python"
  },
  "orig_nbformat": 4
 },
 "nbformat": 4,
 "nbformat_minor": 2
}
